{
    "cells": [
        {
            "cell_type": "code",
            "execution_count": 2,
            "source": [
                "!pip install -Uqq fastbook\r\n",
                "import fastbook\r\n",
                "from fastbook import *\r\n",
                "from fastai.vision.all import *"
            ],
            "outputs": [],
            "metadata": {}
        },
        {
            "cell_type": "code",
            "execution_count": null,
            "source": [
                "dest = '/content/DataML'\r\n",
                "path = untar_data (URLs.PETS, dest=dest)/'images' \r\n",
                "def is_cat(x): return x[0].isupper() \r\n",
                "\r\n",
                "dls = ImageDataLoaders.from_name_func(\r\n",
                "    path=path, fnames=get_image_files(path),        \r\n",
                "    valid_pct=0.2, seed=42,\r\n",
                "    label_func=is_cat, item_tfms=Resize(224)\r\n",
                ")"
            ],
            "outputs": [],
            "metadata": {}
        },
        {
            "cell_type": "code",
            "execution_count": null,
            "source": [
                "learn = cnn_learner(dls, resnet34, metrics=error_rate)\r\n",
                "learn.fine_tune(1)"
            ],
            "outputs": [],
            "metadata": {}
        },
        {
            "cell_type": "code",
            "execution_count": null,
            "source": [
                "uploader = widgets.FileUpload()\r\n",
                "uploader"
            ],
            "outputs": [],
            "metadata": {}
        },
        {
            "cell_type": "code",
            "execution_count": null,
            "source": [
                "img = PILImage.create(uploader.data[0])\r\n",
                "pred,_,_ = learn.predict(img)\r\n",
                "if pred == 'True': \r\n",
                "    print(f'Prediction: Cat')\r\n",
                "else: \r\n",
                "    print(f'Prediction: Dog')"
            ],
            "outputs": [],
            "metadata": {}
        }
    ],
    "metadata": {
        "orig_nbformat": 4,
        "language_info": {
            "name": "python",
            "version": "3.9.5",
            "mimetype": "text/x-python",
            "codemirror_mode": {
                "name": "ipython",
                "version": 3
            },
            "pygments_lexer": "ipython3",
            "nbconvert_exporter": "python",
            "file_extension": ".py"
        },
        "kernelspec": {
            "name": "python3",
            "display_name": "Python 3.9.5 64-bit"
        },
        "interpreter": {
            "hash": "ac59ebe37160ed0dfa835113d9b8498d9f09ceb179beaac4002f036b9467c963"
        }
    },
    "nbformat": 4,
    "nbformat_minor": 2
}