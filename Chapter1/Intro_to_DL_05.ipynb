{
  "nbformat": 4,
  "nbformat_minor": 0,
  "metadata": {
    "colab": {
      "name": "Intro_to_DL_05.ipynb",
      "provenance": [],
      "collapsed_sections": []
    },
    "kernelspec": {
      "name": "python3",
      "display_name": "Python 3"
    },
    "accelerator": "GPU"
  },
  "cells": [
    {
      "cell_type": "code",
      "metadata": {
        "id": "G93mj5KKQEhH",
        "outputId": "ab3b8a60-ce21-4a47-c492-3ad2aebeaf97",
        "colab": {
          "base_uri": "https://localhost:8080/"
        }
      },
      "source": [
        "!pip install -Uqq fastbook\n",
        "import fastbook\n",
        "# fastbook.setup_book() # mount GDrive \n",
        "from fastbook import *\n",
        "from matplotlib import pyplot as plt"
      ],
      "execution_count": 1,
      "outputs": [
        {
          "output_type": "stream",
          "text": [
            "\u001b[K     |████████████████████████████████| 720 kB 8.5 MB/s \n",
            "\u001b[K     |████████████████████████████████| 1.2 MB 11.5 MB/s \n",
            "\u001b[K     |████████████████████████████████| 188 kB 51.7 MB/s \n",
            "\u001b[K     |████████████████████████████████| 46 kB 5.0 MB/s \n",
            "\u001b[K     |████████████████████████████████| 53 kB 2.4 MB/s \n",
            "\u001b[K     |████████████████████████████████| 51 kB 392 kB/s \n",
            "\u001b[?25h"
          ],
          "name": "stdout"
        }
      ]
    },
    {
      "cell_type": "markdown",
      "metadata": {
        "id": "hewnfiYxdi_T"
      },
      "source": [
        "We will work on a small subset of MNIST dataset which contains only two digits (3 and 7):"
      ]
    },
    {
      "cell_type": "code",
      "metadata": {
        "id": "N1hXZ-94i8FN",
        "colab": {
          "base_uri": "https://localhost:8080/"
        },
        "outputId": "24ac2ed0-0123-4643-d9d0-06f262af5238"
      },
      "source": [
        "path = untar_data(URLs.MNIST_SAMPLE)\n",
        "path"
      ],
      "execution_count": null,
      "outputs": [
        {
          "output_type": "execute_result",
          "data": {
            "text/plain": [
              "Path('/root/.fastai/data/mnist_sample')"
            ]
          },
          "metadata": {
            "tags": []
          },
          "execution_count": 6
        }
      ]
    },
    {
      "cell_type": "code",
      "metadata": {
        "colab": {
          "base_uri": "https://localhost:8080/"
        },
        "id": "6PrENLtKdJTA",
        "outputId": "bd6de85a-85f4-4150-ac8a-4553b9e1720f"
      },
      "source": [
        "path.ls()"
      ],
      "execution_count": null,
      "outputs": [
        {
          "output_type": "execute_result",
          "data": {
            "text/plain": [
              "(#3) [Path('/root/.fastai/data/mnist_sample/train'),Path('/root/.fastai/data/mnist_sample/valid'),Path('/root/.fastai/data/mnist_sample/labels.csv')]"
            ]
          },
          "metadata": {
            "tags": []
          },
          "execution_count": 7
        }
      ]
    },
    {
      "cell_type": "markdown",
      "metadata": {
        "id": "jWeqc-ZMtF4r"
      },
      "source": [
        "We can set the BASE_PATH to path so that we start from there and not the /root/.fastai..."
      ]
    },
    {
      "cell_type": "code",
      "metadata": {
        "id": "bBJEbTpBjsvK"
      },
      "source": [
        "Path.BASE_PATH = path"
      ],
      "execution_count": null,
      "outputs": []
    },
    {
      "cell_type": "code",
      "metadata": {
        "colab": {
          "base_uri": "https://localhost:8080/"
        },
        "id": "CSMKqMsHjMsF",
        "outputId": "a1e98d86-4149-4558-8909-cd8923b3b952"
      },
      "source": [
        "(path).ls()"
      ],
      "execution_count": null,
      "outputs": [
        {
          "output_type": "execute_result",
          "data": {
            "text/plain": [
              "(#3) [Path('train'),Path('valid'),Path('labels.csv')]"
            ]
          },
          "metadata": {
            "tags": []
          },
          "execution_count": 9
        }
      ]
    },
    {
      "cell_type": "code",
      "metadata": {
        "id": "-rn42EcVfqcp",
        "colab": {
          "base_uri": "https://localhost:8080/"
        },
        "outputId": "2d351176-8d45-4063-a501-4166f559f06c"
      },
      "source": [
        "(path /\"train\").ls()"
      ],
      "execution_count": null,
      "outputs": [
        {
          "output_type": "execute_result",
          "data": {
            "text/plain": [
              "(#2) [Path('train/3'),Path('train/7')]"
            ]
          },
          "metadata": {
            "tags": []
          },
          "execution_count": 10
        }
      ]
    },
    {
      "cell_type": "code",
      "metadata": {
        "id": "Wr1tHhXdjMgT"
      },
      "source": [
        "threes = (path/'train/3').ls().sorted()\n",
        "sevens = (path/'train/7').ls().sorted()"
      ],
      "execution_count": null,
      "outputs": []
    },
    {
      "cell_type": "code",
      "metadata": {
        "id": "3STeygGchLW-",
        "colab": {
          "base_uri": "https://localhost:8080/",
          "height": 45
        },
        "outputId": "7d0dc1d2-57c5-40df-f246-a971ec590a7b"
      },
      "source": [
        "sevens\n",
        "im7_path = sevens[54]\n",
        "im7 = Image.open(im7_path)\n",
        "im7"
      ],
      "execution_count": null,
      "outputs": [
        {
          "output_type": "execute_result",
          "data": {
            "image/png": "[encoded data removed]",
            "text/plain": [
              "<PIL.PngImagePlugin.PngImageFile image mode=L size=28x28 at 0x7FF07911E750>"
            ]
          },
          "metadata": {
            "tags": []
          },
          "execution_count": 14
        }
      ]
    },
    {
      "cell_type": "code",
      "metadata": {
        "id": "ef8D6phBjLoI",
        "colab": {
          "base_uri": "https://localhost:8080/",
          "height": 271
        },
        "outputId": "9f3c538c-f4c2-4f5e-b4cb-7cba0ab320a1"
      },
      "source": [
        "# --- We can convert PILImageFile to a numpy array or a tensor (on GPU):\n",
        "# im7_array = array(im7)\n",
        "# plt.imshow(im7_array)\n",
        "im7_tensor = tensor(im7)\n",
        "plt.imshow(im7_tensor[4:15, 4:22])"
      ],
      "execution_count": null,
      "outputs": [
        {
          "output_type": "execute_result",
          "data": {
            "text/plain": [
              "<matplotlib.image.AxesImage at 0x7ff078ff4490>"
            ]
          },
          "metadata": {
            "tags": []
          },
          "execution_count": 16
        },
        {
          "output_type": "display_data",
          "data": {
            "image/png": "[encoded data removed]",
            "text/plain": [
              "<Figure size 432x288 with 1 Axes>"
            ]
          },
          "metadata": {
            "tags": [],
            "needs_background": "light"
          }
        }
      ]
    },
    {
      "cell_type": "code",
      "metadata": {
        "colab": {
          "base_uri": "https://localhost:8080/",
          "height": 258
        },
        "id": "yIL5wE1yjIc-",
        "outputId": "f5ec2c4a-e412-45d6-eb69-3ec3e68245c1"
      },
      "source": [
        "# --- We can also use pandas DF to vizualize them in a neat way:\n",
        "df = pd.DataFrame(im7_tensor[4:15, 4:22])\n",
        "df.style.set_properties(**{'font-size': '6pt'}).background_gradient('BuPu')"
      ],
      "execution_count": null,
      "outputs": [
        {
          "output_type": "execute_result",
          "data": {
            "text/html": [
              "<style  type=\"text/css\" >\n",
              "#T_fd06640a_ad11_11eb_a240_0242ac1c0002row0_col0,#T_fd06640a_ad11_11eb_a240_0242ac1c0002row0_col1,#T_fd06640a_ad11_11eb_a240_0242ac1c0002row0_col2,#T_fd06640a_ad11_11eb_a240_0242ac1c0002row0_col3,#T_fd06640a_ad11_11eb_a240_0242ac1c0002row0_col4,#T_fd06640a_ad11_11eb_a240_0242ac1c0002row0_col5,#T_fd06640a_ad11_11eb_a240_0242ac1c0002row0_col6,#T_fd06640a_ad11_11eb_a240_0242ac1c0002row0_col7,#T_fd06640a_ad11_11eb_a240_0242ac1c0002row0_col8,#T_fd06640a_ad11_11eb_a240_0242ac1c0002row0_col9,#T_fd06640a_ad11_11eb_a240_0242ac1c0002row0_col10,#T_fd06640a_ad11_11eb_a240_0242ac1c0002row0_col11,#T_fd06640a_ad11_11eb_a240_0242ac1c0002row0_col12,#T_fd06640a_ad11_11eb_a240_0242ac1c0002row0_col13,#T_fd06640a_ad11_11eb_a240_0242ac1c0002row0_col14,#T_fd06640a_ad11_11eb_a240_0242ac1c0002row0_col15,#T_fd06640a_ad11_11eb_a240_0242ac1c0002row0_col16,#T_fd06640a_ad11_11eb_a240_0242ac1c0002row0_col17,#T_fd06640a_ad11_11eb_a240_0242ac1c0002row1_col0,#T_fd06640a_ad11_11eb_a240_0242ac1c0002row1_col1,#T_fd06640a_ad11_11eb_a240_0242ac1c0002row1_col2,#T_fd06640a_ad11_11eb_a240_0242ac1c0002row1_col3,#T_fd06640a_ad11_11eb_a240_0242ac1c0002row1_col4,#T_fd06640a_ad11_11eb_a240_0242ac1c0002row1_col5,#T_fd06640a_ad11_11eb_a240_0242ac1c0002row1_col6,#T_fd06640a_ad11_11eb_a240_0242ac1c0002row1_col7,#T_fd06640a_ad11_11eb_a240_0242ac1c0002row1_col8,#T_fd06640a_ad11_11eb_a240_0242ac1c0002row1_col9,#T_fd06640a_ad11_11eb_a240_0242ac1c0002row1_col10,#T_fd06640a_ad11_11eb_a240_0242ac1c0002row1_col11,#T_fd06640a_ad11_11eb_a240_0242ac1c0002row1_col12,#T_fd06640a_ad11_11eb_a240_0242ac1c0002row1_col13,#T_fd06640a_ad11_11eb_a240_0242ac1c0002row1_col14,#T_fd06640a_ad11_11eb_a240_0242ac1c0002row1_col15,#T_fd06640a_ad11_11eb_a240_0242ac1c0002row1_col16,#T_fd06640a_ad11_11eb_a240_0242ac1c0002row1_col17,#T_fd06640a_ad11_11eb_a240_0242ac1c0002row2_col0,#T_fd06640a_ad11_11eb_a240_0242ac1c0002row2_col1,#T_fd06640a_ad11_11eb_a240_0242ac1c0002row2_col2,#T_fd06640a_ad11_11eb_a240_0242ac1c0002row2_col3,#T_fd06640a_ad11_11eb_a240_0242ac1c0002row2_col4,#T_fd06640a_ad11_11eb_a240_0242ac1c0002row2_col17,#T_fd06640a_ad11_11eb_a240_0242ac1c0002row3_col0,#T_fd06640a_ad11_11eb_a240_0242ac1c0002row3_col1,#T_fd06640a_ad11_11eb_a240_0242ac1c0002row3_col2,#T_fd06640a_ad11_11eb_a240_0242ac1c0002row3_col3,#T_fd06640a_ad11_11eb_a240_0242ac1c0002row3_col17,#T_fd06640a_ad11_11eb_a240_0242ac1c0002row4_col0,#T_fd06640a_ad11_11eb_a240_0242ac1c0002row4_col1,#T_fd06640a_ad11_11eb_a240_0242ac1c0002row4_col2,#T_fd06640a_ad11_11eb_a240_0242ac1c0002row4_col3,#T_fd06640a_ad11_11eb_a240_0242ac1c0002row4_col17,#T_fd06640a_ad11_11eb_a240_0242ac1c0002row5_col0,#T_fd06640a_ad11_11eb_a240_0242ac1c0002row5_col1,#T_fd06640a_ad11_11eb_a240_0242ac1c0002row5_col2,#T_fd06640a_ad11_11eb_a240_0242ac1c0002row5_col3,#T_fd06640a_ad11_11eb_a240_0242ac1c0002row5_col4,#T_fd06640a_ad11_11eb_a240_0242ac1c0002row5_col17,#T_fd06640a_ad11_11eb_a240_0242ac1c0002row6_col0,#T_fd06640a_ad11_11eb_a240_0242ac1c0002row6_col1,#T_fd06640a_ad11_11eb_a240_0242ac1c0002row6_col2,#T_fd06640a_ad11_11eb_a240_0242ac1c0002row6_col3,#T_fd06640a_ad11_11eb_a240_0242ac1c0002row6_col4,#T_fd06640a_ad11_11eb_a240_0242ac1c0002row6_col5,#T_fd06640a_ad11_11eb_a240_0242ac1c0002row6_col6,#T_fd06640a_ad11_11eb_a240_0242ac1c0002row6_col7,#T_fd06640a_ad11_11eb_a240_0242ac1c0002row6_col8,#T_fd06640a_ad11_11eb_a240_0242ac1c0002row6_col9,#T_fd06640a_ad11_11eb_a240_0242ac1c0002row6_col10,#T_fd06640a_ad11_11eb_a240_0242ac1c0002row6_col11,#T_fd06640a_ad11_11eb_a240_0242ac1c0002row6_col17,#T_fd06640a_ad11_11eb_a240_0242ac1c0002row7_col0,#T_fd06640a_ad11_11eb_a240_0242ac1c0002row7_col1,#T_fd06640a_ad11_11eb_a240_0242ac1c0002row7_col2,#T_fd06640a_ad11_11eb_a240_0242ac1c0002row7_col3,#T_fd06640a_ad11_11eb_a240_0242ac1c0002row7_col4,#T_fd06640a_ad11_11eb_a240_0242ac1c0002row7_col5,#T_fd06640a_ad11_11eb_a240_0242ac1c0002row7_col6,#T_fd06640a_ad11_11eb_a240_0242ac1c0002row7_col7,#T_fd06640a_ad11_11eb_a240_0242ac1c0002row7_col8,#T_fd06640a_ad11_11eb_a240_0242ac1c0002row7_col9,#T_fd06640a_ad11_11eb_a240_0242ac1c0002row7_col10,#T_fd06640a_ad11_11eb_a240_0242ac1c0002row7_col17,#T_fd06640a_ad11_11eb_a240_0242ac1c0002row8_col0,#T_fd06640a_ad11_11eb_a240_0242ac1c0002row8_col1,#T_fd06640a_ad11_11eb_a240_0242ac1c0002row8_col2,#T_fd06640a_ad11_11eb_a240_0242ac1c0002row8_col3,#T_fd06640a_ad11_11eb_a240_0242ac1c0002row8_col4,#T_fd06640a_ad11_11eb_a240_0242ac1c0002row8_col5,#T_fd06640a_ad11_11eb_a240_0242ac1c0002row8_col6,#T_fd06640a_ad11_11eb_a240_0242ac1c0002row8_col7,#T_fd06640a_ad11_11eb_a240_0242ac1c0002row8_col8,#T_fd06640a_ad11_11eb_a240_0242ac1c0002row8_col9,#T_fd06640a_ad11_11eb_a240_0242ac1c0002row8_col10,#T_fd06640a_ad11_11eb_a240_0242ac1c0002row8_col16,#T_fd06640a_ad11_11eb_a240_0242ac1c0002row8_col17,#T_fd06640a_ad11_11eb_a240_0242ac1c0002row9_col0,#T_fd06640a_ad11_11eb_a240_0242ac1c0002row9_col1,#T_fd06640a_ad11_11eb_a240_0242ac1c0002row9_col2,#T_fd06640a_ad11_11eb_a240_0242ac1c0002row9_col3,#T_fd06640a_ad11_11eb_a240_0242ac1c0002row9_col4,#T_fd06640a_ad11_11eb_a240_0242ac1c0002row9_col5,#T_fd06640a_ad11_11eb_a240_0242ac1c0002row9_col6,#T_fd06640a_ad11_11eb_a240_0242ac1c0002row9_col7,#T_fd06640a_ad11_11eb_a240_0242ac1c0002row9_col8,#T_fd06640a_ad11_11eb_a240_0242ac1c0002row9_col9,#T_fd06640a_ad11_11eb_a240_0242ac1c0002row9_col10,#T_fd06640a_ad11_11eb_a240_0242ac1c0002row9_col16,#T_fd06640a_ad11_11eb_a240_0242ac1c0002row9_col17,#T_fd06640a_ad11_11eb_a240_0242ac1c0002row10_col0,#T_fd06640a_ad11_11eb_a240_0242ac1c0002row10_col1,#T_fd06640a_ad11_11eb_a240_0242ac1c0002row10_col2,#T_fd06640a_ad11_11eb_a240_0242ac1c0002row10_col3,#T_fd06640a_ad11_11eb_a240_0242ac1c0002row10_col4,#T_fd06640a_ad11_11eb_a240_0242ac1c0002row10_col5,#T_fd06640a_ad11_11eb_a240_0242ac1c0002row10_col6,#T_fd06640a_ad11_11eb_a240_0242ac1c0002row10_col7,#T_fd06640a_ad11_11eb_a240_0242ac1c0002row10_col8,#T_fd06640a_ad11_11eb_a240_0242ac1c0002row10_col9,#T_fd06640a_ad11_11eb_a240_0242ac1c0002row10_col15,#T_fd06640a_ad11_11eb_a240_0242ac1c0002row10_col16,#T_fd06640a_ad11_11eb_a240_0242ac1c0002row10_col17{\n",
              "            font-size:  6pt;\n",
              "            background-color:  #f7fcfd;\n",
              "            color:  #000000;\n",
              "        }#T_fd06640a_ad11_11eb_a240_0242ac1c0002row2_col5{\n",
              "            font-size:  6pt;\n",
              "            background-color:  #d4e3ef;\n",
              "            color:  #000000;\n",
              "        }#T_fd06640a_ad11_11eb_a240_0242ac1c0002row2_col6,#T_fd06640a_ad11_11eb_a240_0242ac1c0002row2_col7,#T_fd06640a_ad11_11eb_a240_0242ac1c0002row2_col8{\n",
              "            font-size:  6pt;\n",
              "            background-color:  #8c8dc2;\n",
              "            color:  #000000;\n",
              "        }#T_fd06640a_ad11_11eb_a240_0242ac1c0002row2_col9{\n",
              "            font-size:  6pt;\n",
              "            background-color:  #8948a0;\n",
              "            color:  #f1f1f1;\n",
              "        }#T_fd06640a_ad11_11eb_a240_0242ac1c0002row2_col10,#T_fd06640a_ad11_11eb_a240_0242ac1c0002row2_col11,#T_fd06640a_ad11_11eb_a240_0242ac1c0002row2_col12,#T_fd06640a_ad11_11eb_a240_0242ac1c0002row2_col13,#T_fd06640a_ad11_11eb_a240_0242ac1c0002row2_col14,#T_fd06640a_ad11_11eb_a240_0242ac1c0002row3_col4,#T_fd06640a_ad11_11eb_a240_0242ac1c0002row3_col5,#T_fd06640a_ad11_11eb_a240_0242ac1c0002row3_col6,#T_fd06640a_ad11_11eb_a240_0242ac1c0002row3_col7,#T_fd06640a_ad11_11eb_a240_0242ac1c0002row3_col8,#T_fd06640a_ad11_11eb_a240_0242ac1c0002row3_col9,#T_fd06640a_ad11_11eb_a240_0242ac1c0002row3_col15,#T_fd06640a_ad11_11eb_a240_0242ac1c0002row3_col16,#T_fd06640a_ad11_11eb_a240_0242ac1c0002row4_col6,#T_fd06640a_ad11_11eb_a240_0242ac1c0002row4_col7,#T_fd06640a_ad11_11eb_a240_0242ac1c0002row4_col8,#T_fd06640a_ad11_11eb_a240_0242ac1c0002row4_col9,#T_fd06640a_ad11_11eb_a240_0242ac1c0002row4_col15,#T_fd06640a_ad11_11eb_a240_0242ac1c0002row4_col16,#T_fd06640a_ad11_11eb_a240_0242ac1c0002row5_col15,#T_fd06640a_ad11_11eb_a240_0242ac1c0002row5_col16,#T_fd06640a_ad11_11eb_a240_0242ac1c0002row6_col15{\n",
              "            font-size:  6pt;\n",
              "            background-color:  #4d004b;\n",
              "            color:  #f1f1f1;\n",
              "        }#T_fd06640a_ad11_11eb_a240_0242ac1c0002row2_col15{\n",
              "            font-size:  6pt;\n",
              "            background-color:  #7b0d76;\n",
              "            color:  #f1f1f1;\n",
              "        }#T_fd06640a_ad11_11eb_a240_0242ac1c0002row2_col16{\n",
              "            font-size:  6pt;\n",
              "            background-color:  #cbdceb;\n",
              "            color:  #000000;\n",
              "        }#T_fd06640a_ad11_11eb_a240_0242ac1c0002row3_col10,#T_fd06640a_ad11_11eb_a240_0242ac1c0002row3_col12,#T_fd06640a_ad11_11eb_a240_0242ac1c0002row3_col13,#T_fd06640a_ad11_11eb_a240_0242ac1c0002row3_col14,#T_fd06640a_ad11_11eb_a240_0242ac1c0002row4_col10,#T_fd06640a_ad11_11eb_a240_0242ac1c0002row4_col12,#T_fd06640a_ad11_11eb_a240_0242ac1c0002row4_col13,#T_fd06640a_ad11_11eb_a240_0242ac1c0002row4_col14,#T_fd06640a_ad11_11eb_a240_0242ac1c0002row5_col13,#T_fd06640a_ad11_11eb_a240_0242ac1c0002row5_col14,#T_fd06640a_ad11_11eb_a240_0242ac1c0002row6_col13,#T_fd06640a_ad11_11eb_a240_0242ac1c0002row6_col14,#T_fd06640a_ad11_11eb_a240_0242ac1c0002row7_col13,#T_fd06640a_ad11_11eb_a240_0242ac1c0002row7_col14,#T_fd06640a_ad11_11eb_a240_0242ac1c0002row8_col12,#T_fd06640a_ad11_11eb_a240_0242ac1c0002row8_col13,#T_fd06640a_ad11_11eb_a240_0242ac1c0002row8_col14,#T_fd06640a_ad11_11eb_a240_0242ac1c0002row9_col12,#T_fd06640a_ad11_11eb_a240_0242ac1c0002row9_col13,#T_fd06640a_ad11_11eb_a240_0242ac1c0002row10_col12,#T_fd06640a_ad11_11eb_a240_0242ac1c0002row10_col13{\n",
              "            font-size:  6pt;\n",
              "            background-color:  #4f004d;\n",
              "            color:  #f1f1f1;\n",
              "        }#T_fd06640a_ad11_11eb_a240_0242ac1c0002row3_col11,#T_fd06640a_ad11_11eb_a240_0242ac1c0002row4_col11,#T_fd06640a_ad11_11eb_a240_0242ac1c0002row10_col11{\n",
              "            font-size:  6pt;\n",
              "            background-color:  #50014e;\n",
              "            color:  #f1f1f1;\n",
              "        }#T_fd06640a_ad11_11eb_a240_0242ac1c0002row4_col4{\n",
              "            font-size:  6pt;\n",
              "            background-color:  #8a59a8;\n",
              "            color:  #000000;\n",
              "        }#T_fd06640a_ad11_11eb_a240_0242ac1c0002row4_col5{\n",
              "            font-size:  6pt;\n",
              "            background-color:  #670864;\n",
              "            color:  #f1f1f1;\n",
              "        }#T_fd06640a_ad11_11eb_a240_0242ac1c0002row5_col5{\n",
              "            font-size:  6pt;\n",
              "            background-color:  #bacfe4;\n",
              "            color:  #000000;\n",
              "        }#T_fd06640a_ad11_11eb_a240_0242ac1c0002row5_col6{\n",
              "            font-size:  6pt;\n",
              "            background-color:  #909fcb;\n",
              "            color:  #000000;\n",
              "        }#T_fd06640a_ad11_11eb_a240_0242ac1c0002row5_col7,#T_fd06640a_ad11_11eb_a240_0242ac1c0002row9_col14{\n",
              "            font-size:  6pt;\n",
              "            background-color:  #8b64ad;\n",
              "            color:  #000000;\n",
              "        }#T_fd06640a_ad11_11eb_a240_0242ac1c0002row5_col8,#T_fd06640a_ad11_11eb_a240_0242ac1c0002row5_col9{\n",
              "            font-size:  6pt;\n",
              "            background-color:  #a9c4de;\n",
              "            color:  #000000;\n",
              "        }#T_fd06640a_ad11_11eb_a240_0242ac1c0002row5_col10,#T_fd06640a_ad11_11eb_a240_0242ac1c0002row5_col11,#T_fd06640a_ad11_11eb_a240_0242ac1c0002row10_col14{\n",
              "            font-size:  6pt;\n",
              "            background-color:  #aac4de;\n",
              "            color:  #000000;\n",
              "        }#T_fd06640a_ad11_11eb_a240_0242ac1c0002row5_col12{\n",
              "            font-size:  6pt;\n",
              "            background-color:  #9bb6d7;\n",
              "            color:  #000000;\n",
              "        }#T_fd06640a_ad11_11eb_a240_0242ac1c0002row6_col12{\n",
              "            font-size:  6pt;\n",
              "            background-color:  #95a8d0;\n",
              "            color:  #000000;\n",
              "        }#T_fd06640a_ad11_11eb_a240_0242ac1c0002row6_col16{\n",
              "            font-size:  6pt;\n",
              "            background-color:  #8c8fc2;\n",
              "            color:  #000000;\n",
              "        }#T_fd06640a_ad11_11eb_a240_0242ac1c0002row7_col11{\n",
              "            font-size:  6pt;\n",
              "            background-color:  #d3e2ef;\n",
              "            color:  #000000;\n",
              "        }#T_fd06640a_ad11_11eb_a240_0242ac1c0002row7_col12{\n",
              "            font-size:  6pt;\n",
              "            background-color:  #770c73;\n",
              "            color:  #f1f1f1;\n",
              "        }#T_fd06640a_ad11_11eb_a240_0242ac1c0002row7_col15{\n",
              "            font-size:  6pt;\n",
              "            background-color:  #84258b;\n",
              "            color:  #f1f1f1;\n",
              "        }#T_fd06640a_ad11_11eb_a240_0242ac1c0002row7_col16{\n",
              "            font-size:  6pt;\n",
              "            background-color:  #e9f2f8;\n",
              "            color:  #000000;\n",
              "        }#T_fd06640a_ad11_11eb_a240_0242ac1c0002row8_col11{\n",
              "            font-size:  6pt;\n",
              "            background-color:  #8c90c3;\n",
              "            color:  #000000;\n",
              "        }#T_fd06640a_ad11_11eb_a240_0242ac1c0002row8_col15{\n",
              "            font-size:  6pt;\n",
              "            background-color:  #8c74b5;\n",
              "            color:  #000000;\n",
              "        }#T_fd06640a_ad11_11eb_a240_0242ac1c0002row9_col11{\n",
              "            font-size:  6pt;\n",
              "            background-color:  #6a0867;\n",
              "            color:  #f1f1f1;\n",
              "        }#T_fd06640a_ad11_11eb_a240_0242ac1c0002row9_col15{\n",
              "            font-size:  6pt;\n",
              "            background-color:  #f0f7fa;\n",
              "            color:  #000000;\n",
              "        }#T_fd06640a_ad11_11eb_a240_0242ac1c0002row10_col10{\n",
              "            font-size:  6pt;\n",
              "            background-color:  #95aad0;\n",
              "            color:  #000000;\n",
              "        }</style><table id=\"T_fd06640a_ad11_11eb_a240_0242ac1c0002\" ><thead>    <tr>        <th class=\"blank level0\" ></th>        <th class=\"col_heading level0 col0\" >0</th>        <th class=\"col_heading level0 col1\" >1</th>        <th class=\"col_heading level0 col2\" >2</th>        <th class=\"col_heading level0 col3\" >3</th>        <th class=\"col_heading level0 col4\" >4</th>        <th class=\"col_heading level0 col5\" >5</th>        <th class=\"col_heading level0 col6\" >6</th>        <th class=\"col_heading level0 col7\" >7</th>        <th class=\"col_heading level0 col8\" >8</th>        <th class=\"col_heading level0 col9\" >9</th>        <th class=\"col_heading level0 col10\" >10</th>        <th class=\"col_heading level0 col11\" >11</th>        <th class=\"col_heading level0 col12\" >12</th>        <th class=\"col_heading level0 col13\" >13</th>        <th class=\"col_heading level0 col14\" >14</th>        <th class=\"col_heading level0 col15\" >15</th>        <th class=\"col_heading level0 col16\" >16</th>        <th class=\"col_heading level0 col17\" >17</th>    </tr></thead><tbody>\n",
              "                <tr>\n",
              "                        <th id=\"T_fd06640a_ad11_11eb_a240_0242ac1c0002level0_row0\" class=\"row_heading level0 row0\" >0</th>\n",
              "                        <td id=\"T_fd06640a_ad11_11eb_a240_0242ac1c0002row0_col0\" class=\"data row0 col0\" >0</td>\n",
              "                        <td id=\"T_fd06640a_ad11_11eb_a240_0242ac1c0002row0_col1\" class=\"data row0 col1\" >0</td>\n",
              "                        <td id=\"T_fd06640a_ad11_11eb_a240_0242ac1c0002row0_col2\" class=\"data row0 col2\" >0</td>\n",
              "                        <td id=\"T_fd06640a_ad11_11eb_a240_0242ac1c0002row0_col3\" class=\"data row0 col3\" >0</td>\n",
              "                        <td id=\"T_fd06640a_ad11_11eb_a240_0242ac1c0002row0_col4\" class=\"data row0 col4\" >0</td>\n",
              "                        <td id=\"T_fd06640a_ad11_11eb_a240_0242ac1c0002row0_col5\" class=\"data row0 col5\" >0</td>\n",
              "                        <td id=\"T_fd06640a_ad11_11eb_a240_0242ac1c0002row0_col6\" class=\"data row0 col6\" >0</td>\n",
              "                        <td id=\"T_fd06640a_ad11_11eb_a240_0242ac1c0002row0_col7\" class=\"data row0 col7\" >0</td>\n",
              "                        <td id=\"T_fd06640a_ad11_11eb_a240_0242ac1c0002row0_col8\" class=\"data row0 col8\" >0</td>\n",
              "                        <td id=\"T_fd06640a_ad11_11eb_a240_0242ac1c0002row0_col9\" class=\"data row0 col9\" >0</td>\n",
              "                        <td id=\"T_fd06640a_ad11_11eb_a240_0242ac1c0002row0_col10\" class=\"data row0 col10\" >0</td>\n",
              "                        <td id=\"T_fd06640a_ad11_11eb_a240_0242ac1c0002row0_col11\" class=\"data row0 col11\" >0</td>\n",
              "                        <td id=\"T_fd06640a_ad11_11eb_a240_0242ac1c0002row0_col12\" class=\"data row0 col12\" >0</td>\n",
              "                        <td id=\"T_fd06640a_ad11_11eb_a240_0242ac1c0002row0_col13\" class=\"data row0 col13\" >0</td>\n",
              "                        <td id=\"T_fd06640a_ad11_11eb_a240_0242ac1c0002row0_col14\" class=\"data row0 col14\" >0</td>\n",
              "                        <td id=\"T_fd06640a_ad11_11eb_a240_0242ac1c0002row0_col15\" class=\"data row0 col15\" >0</td>\n",
              "                        <td id=\"T_fd06640a_ad11_11eb_a240_0242ac1c0002row0_col16\" class=\"data row0 col16\" >0</td>\n",
              "                        <td id=\"T_fd06640a_ad11_11eb_a240_0242ac1c0002row0_col17\" class=\"data row0 col17\" >0</td>\n",
              "            </tr>\n",
              "            <tr>\n",
              "                        <th id=\"T_fd06640a_ad11_11eb_a240_0242ac1c0002level0_row1\" class=\"row_heading level0 row1\" >1</th>\n",
              "                        <td id=\"T_fd06640a_ad11_11eb_a240_0242ac1c0002row1_col0\" class=\"data row1 col0\" >0</td>\n",
              "                        <td id=\"T_fd06640a_ad11_11eb_a240_0242ac1c0002row1_col1\" class=\"data row1 col1\" >0</td>\n",
              "                        <td id=\"T_fd06640a_ad11_11eb_a240_0242ac1c0002row1_col2\" class=\"data row1 col2\" >0</td>\n",
              "                        <td id=\"T_fd06640a_ad11_11eb_a240_0242ac1c0002row1_col3\" class=\"data row1 col3\" >0</td>\n",
              "                        <td id=\"T_fd06640a_ad11_11eb_a240_0242ac1c0002row1_col4\" class=\"data row1 col4\" >0</td>\n",
              "                        <td id=\"T_fd06640a_ad11_11eb_a240_0242ac1c0002row1_col5\" class=\"data row1 col5\" >0</td>\n",
              "                        <td id=\"T_fd06640a_ad11_11eb_a240_0242ac1c0002row1_col6\" class=\"data row1 col6\" >0</td>\n",
              "                        <td id=\"T_fd06640a_ad11_11eb_a240_0242ac1c0002row1_col7\" class=\"data row1 col7\" >0</td>\n",
              "                        <td id=\"T_fd06640a_ad11_11eb_a240_0242ac1c0002row1_col8\" class=\"data row1 col8\" >0</td>\n",
              "                        <td id=\"T_fd06640a_ad11_11eb_a240_0242ac1c0002row1_col9\" class=\"data row1 col9\" >0</td>\n",
              "                        <td id=\"T_fd06640a_ad11_11eb_a240_0242ac1c0002row1_col10\" class=\"data row1 col10\" >0</td>\n",
              "                        <td id=\"T_fd06640a_ad11_11eb_a240_0242ac1c0002row1_col11\" class=\"data row1 col11\" >0</td>\n",
              "                        <td id=\"T_fd06640a_ad11_11eb_a240_0242ac1c0002row1_col12\" class=\"data row1 col12\" >0</td>\n",
              "                        <td id=\"T_fd06640a_ad11_11eb_a240_0242ac1c0002row1_col13\" class=\"data row1 col13\" >0</td>\n",
              "                        <td id=\"T_fd06640a_ad11_11eb_a240_0242ac1c0002row1_col14\" class=\"data row1 col14\" >0</td>\n",
              "                        <td id=\"T_fd06640a_ad11_11eb_a240_0242ac1c0002row1_col15\" class=\"data row1 col15\" >0</td>\n",
              "                        <td id=\"T_fd06640a_ad11_11eb_a240_0242ac1c0002row1_col16\" class=\"data row1 col16\" >0</td>\n",
              "                        <td id=\"T_fd06640a_ad11_11eb_a240_0242ac1c0002row1_col17\" class=\"data row1 col17\" >0</td>\n",
              "            </tr>\n",
              "            <tr>\n",
              "                        <th id=\"T_fd06640a_ad11_11eb_a240_0242ac1c0002level0_row2\" class=\"row_heading level0 row2\" >2</th>\n",
              "                        <td id=\"T_fd06640a_ad11_11eb_a240_0242ac1c0002row2_col0\" class=\"data row2 col0\" >0</td>\n",
              "                        <td id=\"T_fd06640a_ad11_11eb_a240_0242ac1c0002row2_col1\" class=\"data row2 col1\" >0</td>\n",
              "                        <td id=\"T_fd06640a_ad11_11eb_a240_0242ac1c0002row2_col2\" class=\"data row2 col2\" >0</td>\n",
              "                        <td id=\"T_fd06640a_ad11_11eb_a240_0242ac1c0002row2_col3\" class=\"data row2 col3\" >0</td>\n",
              "                        <td id=\"T_fd06640a_ad11_11eb_a240_0242ac1c0002row2_col4\" class=\"data row2 col4\" >0</td>\n",
              "                        <td id=\"T_fd06640a_ad11_11eb_a240_0242ac1c0002row2_col5\" class=\"data row2 col5\" >38</td>\n",
              "                        <td id=\"T_fd06640a_ad11_11eb_a240_0242ac1c0002row2_col6\" class=\"data row2 col6\" >132</td>\n",
              "                        <td id=\"T_fd06640a_ad11_11eb_a240_0242ac1c0002row2_col7\" class=\"data row2 col7\" >132</td>\n",
              "                        <td id=\"T_fd06640a_ad11_11eb_a240_0242ac1c0002row2_col8\" class=\"data row2 col8\" >132</td>\n",
              "                        <td id=\"T_fd06640a_ad11_11eb_a240_0242ac1c0002row2_col9\" class=\"data row2 col9\" >184</td>\n",
              "                        <td id=\"T_fd06640a_ad11_11eb_a240_0242ac1c0002row2_col10\" class=\"data row2 col10\" >253</td>\n",
              "                        <td id=\"T_fd06640a_ad11_11eb_a240_0242ac1c0002row2_col11\" class=\"data row2 col11\" >255</td>\n",
              "                        <td id=\"T_fd06640a_ad11_11eb_a240_0242ac1c0002row2_col12\" class=\"data row2 col12\" >253</td>\n",
              "                        <td id=\"T_fd06640a_ad11_11eb_a240_0242ac1c0002row2_col13\" class=\"data row2 col13\" >253</td>\n",
              "                        <td id=\"T_fd06640a_ad11_11eb_a240_0242ac1c0002row2_col14\" class=\"data row2 col14\" >253</td>\n",
              "                        <td id=\"T_fd06640a_ad11_11eb_a240_0242ac1c0002row2_col15\" class=\"data row2 col15\" >224</td>\n",
              "                        <td id=\"T_fd06640a_ad11_11eb_a240_0242ac1c0002row2_col16\" class=\"data row2 col16\" >37</td>\n",
              "                        <td id=\"T_fd06640a_ad11_11eb_a240_0242ac1c0002row2_col17\" class=\"data row2 col17\" >0</td>\n",
              "            </tr>\n",
              "            <tr>\n",
              "                        <th id=\"T_fd06640a_ad11_11eb_a240_0242ac1c0002level0_row3\" class=\"row_heading level0 row3\" >3</th>\n",
              "                        <td id=\"T_fd06640a_ad11_11eb_a240_0242ac1c0002row3_col0\" class=\"data row3 col0\" >0</td>\n",
              "                        <td id=\"T_fd06640a_ad11_11eb_a240_0242ac1c0002row3_col1\" class=\"data row3 col1\" >0</td>\n",
              "                        <td id=\"T_fd06640a_ad11_11eb_a240_0242ac1c0002row3_col2\" class=\"data row3 col2\" >0</td>\n",
              "                        <td id=\"T_fd06640a_ad11_11eb_a240_0242ac1c0002row3_col3\" class=\"data row3 col3\" >0</td>\n",
              "                        <td id=\"T_fd06640a_ad11_11eb_a240_0242ac1c0002row3_col4\" class=\"data row3 col4\" >28</td>\n",
              "                        <td id=\"T_fd06640a_ad11_11eb_a240_0242ac1c0002row3_col5\" class=\"data row3 col5\" >222</td>\n",
              "                        <td id=\"T_fd06640a_ad11_11eb_a240_0242ac1c0002row3_col6\" class=\"data row3 col6\" >252</td>\n",
              "                        <td id=\"T_fd06640a_ad11_11eb_a240_0242ac1c0002row3_col7\" class=\"data row3 col7\" >252</td>\n",
              "                        <td id=\"T_fd06640a_ad11_11eb_a240_0242ac1c0002row3_col8\" class=\"data row3 col8\" >252</td>\n",
              "                        <td id=\"T_fd06640a_ad11_11eb_a240_0242ac1c0002row3_col9\" class=\"data row3 col9\" >252</td>\n",
              "                        <td id=\"T_fd06640a_ad11_11eb_a240_0242ac1c0002row3_col10\" class=\"data row3 col10\" >252</td>\n",
              "                        <td id=\"T_fd06640a_ad11_11eb_a240_0242ac1c0002row3_col11\" class=\"data row3 col11\" >253</td>\n",
              "                        <td id=\"T_fd06640a_ad11_11eb_a240_0242ac1c0002row3_col12\" class=\"data row3 col12\" >252</td>\n",
              "                        <td id=\"T_fd06640a_ad11_11eb_a240_0242ac1c0002row3_col13\" class=\"data row3 col13\" >252</td>\n",
              "                        <td id=\"T_fd06640a_ad11_11eb_a240_0242ac1c0002row3_col14\" class=\"data row3 col14\" >252</td>\n",
              "                        <td id=\"T_fd06640a_ad11_11eb_a240_0242ac1c0002row3_col15\" class=\"data row3 col15\" >252</td>\n",
              "                        <td id=\"T_fd06640a_ad11_11eb_a240_0242ac1c0002row3_col16\" class=\"data row3 col16\" >180</td>\n",
              "                        <td id=\"T_fd06640a_ad11_11eb_a240_0242ac1c0002row3_col17\" class=\"data row3 col17\" >0</td>\n",
              "            </tr>\n",
              "            <tr>\n",
              "                        <th id=\"T_fd06640a_ad11_11eb_a240_0242ac1c0002level0_row4\" class=\"row_heading level0 row4\" >4</th>\n",
              "                        <td id=\"T_fd06640a_ad11_11eb_a240_0242ac1c0002row4_col0\" class=\"data row4 col0\" >0</td>\n",
              "                        <td id=\"T_fd06640a_ad11_11eb_a240_0242ac1c0002row4_col1\" class=\"data row4 col1\" >0</td>\n",
              "                        <td id=\"T_fd06640a_ad11_11eb_a240_0242ac1c0002row4_col2\" class=\"data row4 col2\" >0</td>\n",
              "                        <td id=\"T_fd06640a_ad11_11eb_a240_0242ac1c0002row4_col3\" class=\"data row4 col3\" >0</td>\n",
              "                        <td id=\"T_fd06640a_ad11_11eb_a240_0242ac1c0002row4_col4\" class=\"data row4 col4\" >19</td>\n",
              "                        <td id=\"T_fd06640a_ad11_11eb_a240_0242ac1c0002row4_col5\" class=\"data row4 col5\" >208</td>\n",
              "                        <td id=\"T_fd06640a_ad11_11eb_a240_0242ac1c0002row4_col6\" class=\"data row4 col6\" >252</td>\n",
              "                        <td id=\"T_fd06640a_ad11_11eb_a240_0242ac1c0002row4_col7\" class=\"data row4 col7\" >252</td>\n",
              "                        <td id=\"T_fd06640a_ad11_11eb_a240_0242ac1c0002row4_col8\" class=\"data row4 col8\" >252</td>\n",
              "                        <td id=\"T_fd06640a_ad11_11eb_a240_0242ac1c0002row4_col9\" class=\"data row4 col9\" >252</td>\n",
              "                        <td id=\"T_fd06640a_ad11_11eb_a240_0242ac1c0002row4_col10\" class=\"data row4 col10\" >252</td>\n",
              "                        <td id=\"T_fd06640a_ad11_11eb_a240_0242ac1c0002row4_col11\" class=\"data row4 col11\" >253</td>\n",
              "                        <td id=\"T_fd06640a_ad11_11eb_a240_0242ac1c0002row4_col12\" class=\"data row4 col12\" >252</td>\n",
              "                        <td id=\"T_fd06640a_ad11_11eb_a240_0242ac1c0002row4_col13\" class=\"data row4 col13\" >252</td>\n",
              "                        <td id=\"T_fd06640a_ad11_11eb_a240_0242ac1c0002row4_col14\" class=\"data row4 col14\" >252</td>\n",
              "                        <td id=\"T_fd06640a_ad11_11eb_a240_0242ac1c0002row4_col15\" class=\"data row4 col15\" >252</td>\n",
              "                        <td id=\"T_fd06640a_ad11_11eb_a240_0242ac1c0002row4_col16\" class=\"data row4 col16\" >180</td>\n",
              "                        <td id=\"T_fd06640a_ad11_11eb_a240_0242ac1c0002row4_col17\" class=\"data row4 col17\" >0</td>\n",
              "            </tr>\n",
              "            <tr>\n",
              "                        <th id=\"T_fd06640a_ad11_11eb_a240_0242ac1c0002level0_row5\" class=\"row_heading level0 row5\" >5</th>\n",
              "                        <td id=\"T_fd06640a_ad11_11eb_a240_0242ac1c0002row5_col0\" class=\"data row5 col0\" >0</td>\n",
              "                        <td id=\"T_fd06640a_ad11_11eb_a240_0242ac1c0002row5_col1\" class=\"data row5 col1\" >0</td>\n",
              "                        <td id=\"T_fd06640a_ad11_11eb_a240_0242ac1c0002row5_col2\" class=\"data row5 col2\" >0</td>\n",
              "                        <td id=\"T_fd06640a_ad11_11eb_a240_0242ac1c0002row5_col3\" class=\"data row5 col3\" >0</td>\n",
              "                        <td id=\"T_fd06640a_ad11_11eb_a240_0242ac1c0002row5_col4\" class=\"data row5 col4\" >0</td>\n",
              "                        <td id=\"T_fd06640a_ad11_11eb_a240_0242ac1c0002row5_col5\" class=\"data row5 col5\" >60</td>\n",
              "                        <td id=\"T_fd06640a_ad11_11eb_a240_0242ac1c0002row5_col6\" class=\"data row5 col6\" >119</td>\n",
              "                        <td id=\"T_fd06640a_ad11_11eb_a240_0242ac1c0002row5_col7\" class=\"data row5 col7\" >163</td>\n",
              "                        <td id=\"T_fd06640a_ad11_11eb_a240_0242ac1c0002row5_col8\" class=\"data row5 col8\" >84</td>\n",
              "                        <td id=\"T_fd06640a_ad11_11eb_a240_0242ac1c0002row5_col9\" class=\"data row5 col9\" >84</td>\n",
              "                        <td id=\"T_fd06640a_ad11_11eb_a240_0242ac1c0002row5_col10\" class=\"data row5 col10\" >84</td>\n",
              "                        <td id=\"T_fd06640a_ad11_11eb_a240_0242ac1c0002row5_col11\" class=\"data row5 col11\" >84</td>\n",
              "                        <td id=\"T_fd06640a_ad11_11eb_a240_0242ac1c0002row5_col12\" class=\"data row5 col12\" >100</td>\n",
              "                        <td id=\"T_fd06640a_ad11_11eb_a240_0242ac1c0002row5_col13\" class=\"data row5 col13\" >252</td>\n",
              "                        <td id=\"T_fd06640a_ad11_11eb_a240_0242ac1c0002row5_col14\" class=\"data row5 col14\" >252</td>\n",
              "                        <td id=\"T_fd06640a_ad11_11eb_a240_0242ac1c0002row5_col15\" class=\"data row5 col15\" >252</td>\n",
              "                        <td id=\"T_fd06640a_ad11_11eb_a240_0242ac1c0002row5_col16\" class=\"data row5 col16\" >180</td>\n",
              "                        <td id=\"T_fd06640a_ad11_11eb_a240_0242ac1c0002row5_col17\" class=\"data row5 col17\" >0</td>\n",
              "            </tr>\n",
              "            <tr>\n",
              "                        <th id=\"T_fd06640a_ad11_11eb_a240_0242ac1c0002level0_row6\" class=\"row_heading level0 row6\" >6</th>\n",
              "                        <td id=\"T_fd06640a_ad11_11eb_a240_0242ac1c0002row6_col0\" class=\"data row6 col0\" >0</td>\n",
              "                        <td id=\"T_fd06640a_ad11_11eb_a240_0242ac1c0002row6_col1\" class=\"data row6 col1\" >0</td>\n",
              "                        <td id=\"T_fd06640a_ad11_11eb_a240_0242ac1c0002row6_col2\" class=\"data row6 col2\" >0</td>\n",
              "                        <td id=\"T_fd06640a_ad11_11eb_a240_0242ac1c0002row6_col3\" class=\"data row6 col3\" >0</td>\n",
              "                        <td id=\"T_fd06640a_ad11_11eb_a240_0242ac1c0002row6_col4\" class=\"data row6 col4\" >0</td>\n",
              "                        <td id=\"T_fd06640a_ad11_11eb_a240_0242ac1c0002row6_col5\" class=\"data row6 col5\" >0</td>\n",
              "                        <td id=\"T_fd06640a_ad11_11eb_a240_0242ac1c0002row6_col6\" class=\"data row6 col6\" >0</td>\n",
              "                        <td id=\"T_fd06640a_ad11_11eb_a240_0242ac1c0002row6_col7\" class=\"data row6 col7\" >0</td>\n",
              "                        <td id=\"T_fd06640a_ad11_11eb_a240_0242ac1c0002row6_col8\" class=\"data row6 col8\" >0</td>\n",
              "                        <td id=\"T_fd06640a_ad11_11eb_a240_0242ac1c0002row6_col9\" class=\"data row6 col9\" >0</td>\n",
              "                        <td id=\"T_fd06640a_ad11_11eb_a240_0242ac1c0002row6_col10\" class=\"data row6 col10\" >0</td>\n",
              "                        <td id=\"T_fd06640a_ad11_11eb_a240_0242ac1c0002row6_col11\" class=\"data row6 col11\" >0</td>\n",
              "                        <td id=\"T_fd06640a_ad11_11eb_a240_0242ac1c0002row6_col12\" class=\"data row6 col12\" >111</td>\n",
              "                        <td id=\"T_fd06640a_ad11_11eb_a240_0242ac1c0002row6_col13\" class=\"data row6 col13\" >252</td>\n",
              "                        <td id=\"T_fd06640a_ad11_11eb_a240_0242ac1c0002row6_col14\" class=\"data row6 col14\" >252</td>\n",
              "                        <td id=\"T_fd06640a_ad11_11eb_a240_0242ac1c0002row6_col15\" class=\"data row6 col15\" >252</td>\n",
              "                        <td id=\"T_fd06640a_ad11_11eb_a240_0242ac1c0002row6_col16\" class=\"data row6 col16\" >94</td>\n",
              "                        <td id=\"T_fd06640a_ad11_11eb_a240_0242ac1c0002row6_col17\" class=\"data row6 col17\" >0</td>\n",
              "            </tr>\n",
              "            <tr>\n",
              "                        <th id=\"T_fd06640a_ad11_11eb_a240_0242ac1c0002level0_row7\" class=\"row_heading level0 row7\" >7</th>\n",
              "                        <td id=\"T_fd06640a_ad11_11eb_a240_0242ac1c0002row7_col0\" class=\"data row7 col0\" >0</td>\n",
              "                        <td id=\"T_fd06640a_ad11_11eb_a240_0242ac1c0002row7_col1\" class=\"data row7 col1\" >0</td>\n",
              "                        <td id=\"T_fd06640a_ad11_11eb_a240_0242ac1c0002row7_col2\" class=\"data row7 col2\" >0</td>\n",
              "                        <td id=\"T_fd06640a_ad11_11eb_a240_0242ac1c0002row7_col3\" class=\"data row7 col3\" >0</td>\n",
              "                        <td id=\"T_fd06640a_ad11_11eb_a240_0242ac1c0002row7_col4\" class=\"data row7 col4\" >0</td>\n",
              "                        <td id=\"T_fd06640a_ad11_11eb_a240_0242ac1c0002row7_col5\" class=\"data row7 col5\" >0</td>\n",
              "                        <td id=\"T_fd06640a_ad11_11eb_a240_0242ac1c0002row7_col6\" class=\"data row7 col6\" >0</td>\n",
              "                        <td id=\"T_fd06640a_ad11_11eb_a240_0242ac1c0002row7_col7\" class=\"data row7 col7\" >0</td>\n",
              "                        <td id=\"T_fd06640a_ad11_11eb_a240_0242ac1c0002row7_col8\" class=\"data row7 col8\" >0</td>\n",
              "                        <td id=\"T_fd06640a_ad11_11eb_a240_0242ac1c0002row7_col9\" class=\"data row7 col9\" >0</td>\n",
              "                        <td id=\"T_fd06640a_ad11_11eb_a240_0242ac1c0002row7_col10\" class=\"data row7 col10\" >0</td>\n",
              "                        <td id=\"T_fd06640a_ad11_11eb_a240_0242ac1c0002row7_col11\" class=\"data row7 col11\" >44</td>\n",
              "                        <td id=\"T_fd06640a_ad11_11eb_a240_0242ac1c0002row7_col12\" class=\"data row7 col12\" >227</td>\n",
              "                        <td id=\"T_fd06640a_ad11_11eb_a240_0242ac1c0002row7_col13\" class=\"data row7 col13\" >252</td>\n",
              "                        <td id=\"T_fd06640a_ad11_11eb_a240_0242ac1c0002row7_col14\" class=\"data row7 col14\" >252</td>\n",
              "                        <td id=\"T_fd06640a_ad11_11eb_a240_0242ac1c0002row7_col15\" class=\"data row7 col15\" >206</td>\n",
              "                        <td id=\"T_fd06640a_ad11_11eb_a240_0242ac1c0002row7_col16\" class=\"data row7 col16\" >14</td>\n",
              "                        <td id=\"T_fd06640a_ad11_11eb_a240_0242ac1c0002row7_col17\" class=\"data row7 col17\" >0</td>\n",
              "            </tr>\n",
              "            <tr>\n",
              "                        <th id=\"T_fd06640a_ad11_11eb_a240_0242ac1c0002level0_row8\" class=\"row_heading level0 row8\" >8</th>\n",
              "                        <td id=\"T_fd06640a_ad11_11eb_a240_0242ac1c0002row8_col0\" class=\"data row8 col0\" >0</td>\n",
              "                        <td id=\"T_fd06640a_ad11_11eb_a240_0242ac1c0002row8_col1\" class=\"data row8 col1\" >0</td>\n",
              "                        <td id=\"T_fd06640a_ad11_11eb_a240_0242ac1c0002row8_col2\" class=\"data row8 col2\" >0</td>\n",
              "                        <td id=\"T_fd06640a_ad11_11eb_a240_0242ac1c0002row8_col3\" class=\"data row8 col3\" >0</td>\n",
              "                        <td id=\"T_fd06640a_ad11_11eb_a240_0242ac1c0002row8_col4\" class=\"data row8 col4\" >0</td>\n",
              "                        <td id=\"T_fd06640a_ad11_11eb_a240_0242ac1c0002row8_col5\" class=\"data row8 col5\" >0</td>\n",
              "                        <td id=\"T_fd06640a_ad11_11eb_a240_0242ac1c0002row8_col6\" class=\"data row8 col6\" >0</td>\n",
              "                        <td id=\"T_fd06640a_ad11_11eb_a240_0242ac1c0002row8_col7\" class=\"data row8 col7\" >0</td>\n",
              "                        <td id=\"T_fd06640a_ad11_11eb_a240_0242ac1c0002row8_col8\" class=\"data row8 col8\" >0</td>\n",
              "                        <td id=\"T_fd06640a_ad11_11eb_a240_0242ac1c0002row8_col9\" class=\"data row8 col9\" >0</td>\n",
              "                        <td id=\"T_fd06640a_ad11_11eb_a240_0242ac1c0002row8_col10\" class=\"data row8 col10\" >0</td>\n",
              "                        <td id=\"T_fd06640a_ad11_11eb_a240_0242ac1c0002row8_col11\" class=\"data row8 col11\" >132</td>\n",
              "                        <td id=\"T_fd06640a_ad11_11eb_a240_0242ac1c0002row8_col12\" class=\"data row8 col12\" >252</td>\n",
              "                        <td id=\"T_fd06640a_ad11_11eb_a240_0242ac1c0002row8_col13\" class=\"data row8 col13\" >252</td>\n",
              "                        <td id=\"T_fd06640a_ad11_11eb_a240_0242ac1c0002row8_col14\" class=\"data row8 col14\" >252</td>\n",
              "                        <td id=\"T_fd06640a_ad11_11eb_a240_0242ac1c0002row8_col15\" class=\"data row8 col15\" >151</td>\n",
              "                        <td id=\"T_fd06640a_ad11_11eb_a240_0242ac1c0002row8_col16\" class=\"data row8 col16\" >0</td>\n",
              "                        <td id=\"T_fd06640a_ad11_11eb_a240_0242ac1c0002row8_col17\" class=\"data row8 col17\" >0</td>\n",
              "            </tr>\n",
              "            <tr>\n",
              "                        <th id=\"T_fd06640a_ad11_11eb_a240_0242ac1c0002level0_row9\" class=\"row_heading level0 row9\" >9</th>\n",
              "                        <td id=\"T_fd06640a_ad11_11eb_a240_0242ac1c0002row9_col0\" class=\"data row9 col0\" >0</td>\n",
              "                        <td id=\"T_fd06640a_ad11_11eb_a240_0242ac1c0002row9_col1\" class=\"data row9 col1\" >0</td>\n",
              "                        <td id=\"T_fd06640a_ad11_11eb_a240_0242ac1c0002row9_col2\" class=\"data row9 col2\" >0</td>\n",
              "                        <td id=\"T_fd06640a_ad11_11eb_a240_0242ac1c0002row9_col3\" class=\"data row9 col3\" >0</td>\n",
              "                        <td id=\"T_fd06640a_ad11_11eb_a240_0242ac1c0002row9_col4\" class=\"data row9 col4\" >0</td>\n",
              "                        <td id=\"T_fd06640a_ad11_11eb_a240_0242ac1c0002row9_col5\" class=\"data row9 col5\" >0</td>\n",
              "                        <td id=\"T_fd06640a_ad11_11eb_a240_0242ac1c0002row9_col6\" class=\"data row9 col6\" >0</td>\n",
              "                        <td id=\"T_fd06640a_ad11_11eb_a240_0242ac1c0002row9_col7\" class=\"data row9 col7\" >0</td>\n",
              "                        <td id=\"T_fd06640a_ad11_11eb_a240_0242ac1c0002row9_col8\" class=\"data row9 col8\" >0</td>\n",
              "                        <td id=\"T_fd06640a_ad11_11eb_a240_0242ac1c0002row9_col9\" class=\"data row9 col9\" >0</td>\n",
              "                        <td id=\"T_fd06640a_ad11_11eb_a240_0242ac1c0002row9_col10\" class=\"data row9 col10\" >0</td>\n",
              "                        <td id=\"T_fd06640a_ad11_11eb_a240_0242ac1c0002row9_col11\" class=\"data row9 col11\" >237</td>\n",
              "                        <td id=\"T_fd06640a_ad11_11eb_a240_0242ac1c0002row9_col12\" class=\"data row9 col12\" >252</td>\n",
              "                        <td id=\"T_fd06640a_ad11_11eb_a240_0242ac1c0002row9_col13\" class=\"data row9 col13\" >252</td>\n",
              "                        <td id=\"T_fd06640a_ad11_11eb_a240_0242ac1c0002row9_col14\" class=\"data row9 col14\" >164</td>\n",
              "                        <td id=\"T_fd06640a_ad11_11eb_a240_0242ac1c0002row9_col15\" class=\"data row9 col15\" >10</td>\n",
              "                        <td id=\"T_fd06640a_ad11_11eb_a240_0242ac1c0002row9_col16\" class=\"data row9 col16\" >0</td>\n",
              "                        <td id=\"T_fd06640a_ad11_11eb_a240_0242ac1c0002row9_col17\" class=\"data row9 col17\" >0</td>\n",
              "            </tr>\n",
              "            <tr>\n",
              "                        <th id=\"T_fd06640a_ad11_11eb_a240_0242ac1c0002level0_row10\" class=\"row_heading level0 row10\" >10</th>\n",
              "                        <td id=\"T_fd06640a_ad11_11eb_a240_0242ac1c0002row10_col0\" class=\"data row10 col0\" >0</td>\n",
              "                        <td id=\"T_fd06640a_ad11_11eb_a240_0242ac1c0002row10_col1\" class=\"data row10 col1\" >0</td>\n",
              "                        <td id=\"T_fd06640a_ad11_11eb_a240_0242ac1c0002row10_col2\" class=\"data row10 col2\" >0</td>\n",
              "                        <td id=\"T_fd06640a_ad11_11eb_a240_0242ac1c0002row10_col3\" class=\"data row10 col3\" >0</td>\n",
              "                        <td id=\"T_fd06640a_ad11_11eb_a240_0242ac1c0002row10_col4\" class=\"data row10 col4\" >0</td>\n",
              "                        <td id=\"T_fd06640a_ad11_11eb_a240_0242ac1c0002row10_col5\" class=\"data row10 col5\" >0</td>\n",
              "                        <td id=\"T_fd06640a_ad11_11eb_a240_0242ac1c0002row10_col6\" class=\"data row10 col6\" >0</td>\n",
              "                        <td id=\"T_fd06640a_ad11_11eb_a240_0242ac1c0002row10_col7\" class=\"data row10 col7\" >0</td>\n",
              "                        <td id=\"T_fd06640a_ad11_11eb_a240_0242ac1c0002row10_col8\" class=\"data row10 col8\" >0</td>\n",
              "                        <td id=\"T_fd06640a_ad11_11eb_a240_0242ac1c0002row10_col9\" class=\"data row10 col9\" >0</td>\n",
              "                        <td id=\"T_fd06640a_ad11_11eb_a240_0242ac1c0002row10_col10\" class=\"data row10 col10\" >110</td>\n",
              "                        <td id=\"T_fd06640a_ad11_11eb_a240_0242ac1c0002row10_col11\" class=\"data row10 col11\" >253</td>\n",
              "                        <td id=\"T_fd06640a_ad11_11eb_a240_0242ac1c0002row10_col12\" class=\"data row10 col12\" >252</td>\n",
              "                        <td id=\"T_fd06640a_ad11_11eb_a240_0242ac1c0002row10_col13\" class=\"data row10 col13\" >252</td>\n",
              "                        <td id=\"T_fd06640a_ad11_11eb_a240_0242ac1c0002row10_col14\" class=\"data row10 col14\" >84</td>\n",
              "                        <td id=\"T_fd06640a_ad11_11eb_a240_0242ac1c0002row10_col15\" class=\"data row10 col15\" >0</td>\n",
              "                        <td id=\"T_fd06640a_ad11_11eb_a240_0242ac1c0002row10_col16\" class=\"data row10 col16\" >0</td>\n",
              "                        <td id=\"T_fd06640a_ad11_11eb_a240_0242ac1c0002row10_col17\" class=\"data row10 col17\" >0</td>\n",
              "            </tr>\n",
              "    </tbody></table>"
            ],
            "text/plain": [
              "<pandas.io.formats.style.Styler at 0x7ff078b332d0>"
            ]
          },
          "metadata": {
            "tags": []
          },
          "execution_count": 17
        }
      ]
    },
    {
      "cell_type": "markdown",
      "metadata": {
        "id": "4PBjAr_okVHm"
      },
      "source": [
        "We will start by making a simple baseline predictive model (pixel similarity):"
      ]
    },
    {
      "cell_type": "code",
      "metadata": {
        "id": "yUNLotm1hlGp"
      },
      "source": [
        "three_tensors = [tensor(Image.open(f)) for f in threes]\n",
        "seven_tensors = [tensor(Image.open(f)) for f in sevens]\n"
      ],
      "execution_count": null,
      "outputs": []
    },
    {
      "cell_type": "code",
      "metadata": {
        "id": "RPNfCGqn6vGb",
        "colab": {
          "base_uri": "https://localhost:8080/",
          "height": 103
        },
        "outputId": "7be59ebd-3313-4af5-ec12-2dcfb0f59bb4"
      },
      "source": [
        "len(seven_tensors)\n",
        "seven_tensors[1].shape\n",
        "show_image(seven_tensors[1])"
      ],
      "execution_count": null,
      "outputs": [
        {
          "output_type": "execute_result",
          "data": {
            "text/plain": [
              "<matplotlib.axes._subplots.AxesSubplot at 0x7ff078f97110>"
            ]
          },
          "metadata": {
            "tags": []
          },
          "execution_count": 21
        },
        {
          "output_type": "display_data",
          "data": {
            "image/png": "[encoded data removed]",
            "text/plain": [
              "<Figure size 72x72 with 1 Axes>"
            ]
          },
          "metadata": {
            "tags": [],
            "needs_background": "light"
          }
        }
      ]
    },
    {
      "cell_type": "markdown",
      "metadata": {
        "id": "bH3ZvaAslLvA"
      },
      "source": [
        "Let's stack our images into a two tensors and normalize them:"
      ]
    },
    {
      "cell_type": "code",
      "metadata": {
        "id": "7TkNO-TGlK5K"
      },
      "source": [
        "stacked_threes = torch.stack(three_tensors).float() / 255\n",
        "stacked_sevens = torch.stack(seven_tensors).float() / 255\n",
        "\n"
      ],
      "execution_count": null,
      "outputs": []
    },
    {
      "cell_type": "code",
      "metadata": {
        "id": "SjAJHKicTOhR",
        "colab": {
          "base_uri": "https://localhost:8080/"
        },
        "outputId": "cc179597-4968-4d54-a35c-fc2a5a279bbb"
      },
      "source": [
        "print(stacked_threes.shape)\n",
        "a_3 = stacked_threes[34]\n",
        "a_7 = stacked_sevens[54]\n",
        "a_3.shape"
      ],
      "execution_count": null,
      "outputs": [
        {
          "output_type": "stream",
          "text": [
            "torch.Size([6131, 28, 28])\n"
          ],
          "name": "stdout"
        },
        {
          "output_type": "execute_result",
          "data": {
            "text/plain": [
              "torch.Size([28, 28])"
            ]
          },
          "metadata": {
            "tags": []
          },
          "execution_count": 25
        }
      ]
    },
    {
      "cell_type": "markdown",
      "metadata": {
        "id": "aIXHLMfrl90p"
      },
      "source": [
        "For this simple model, we will compare new images against the means of 3 and 7 tensors:\n"
      ]
    },
    {
      "cell_type": "code",
      "metadata": {
        "colab": {
          "base_uri": "https://localhost:8080/",
          "height": 153
        },
        "id": "g7d5SDHwk13P",
        "outputId": "3bd5d23f-199a-4bb7-9b3b-48c6de96970e"
      },
      "source": [
        "mean3 = stacked_threes.mean(0)\n",
        "mean7 = stacked_sevens.mean(0)\n",
        "\n",
        "show_image(mean3), show_image(mean7);"
      ],
      "execution_count": null,
      "outputs": [
        {
          "output_type": "display_data",
          "data": {
            "image/png": "[encoded data removed]",
            "text/plain": [
              "<Figure size 72x72 with 1 Axes>"
            ]
          },
          "metadata": {
            "tags": [],
            "needs_background": "light"
          }
        },
        {
          "output_type": "display_data",
          "data": {
            "image/png": "[encoded data removed]",
            "text/plain": [
              "<Figure size 72x72 with 1 Axes>"
            ]
          },
          "metadata": {
            "tags": [],
            "needs_background": "light"
          }
        }
      ]
    },
    {
      "cell_type": "code",
      "metadata": {
        "id": "ssyxCFxqRjOI",
        "colab": {
          "base_uri": "https://localhost:8080/"
        },
        "outputId": "aaceaab9-5fbf-4880-f830-3a731275b64a"
      },
      "source": [
        " def img_distance(a, b):\n",
        "     return (a - b).abs().mean()\n",
        "\n",
        "print(img_distance(a_7, mean7))\n",
        "print(img_distance(a_7, mean3))"
      ],
      "execution_count": null,
      "outputs": [
        {
          "output_type": "stream",
          "text": [
            "tensor(0.1084)\n",
            "tensor(0.1410)\n"
          ],
          "name": "stdout"
        }
      ]
    },
    {
      "cell_type": "code",
      "metadata": {
        "id": "eSnQQt5WchMQ",
        "colab": {
          "base_uri": "https://localhost:8080/"
        },
        "outputId": "053df6c8-1664-4c54-f7bb-4ed93a266750"
      },
      "source": [
        "(path / 'valid/7').ls()"
      ],
      "execution_count": null,
      "outputs": [
        {
          "output_type": "execute_result",
          "data": {
            "text/plain": [
              "(#1028) [Path('valid/7/5610.png'),Path('valid/7/7701.png'),Path('valid/7/9573.png'),Path('valid/7/5654.png'),Path('valid/7/5425.png'),Path('valid/7/1933.png'),Path('valid/7/9608.png'),Path('valid/7/4151.png'),Path('valid/7/3103.png'),Path('valid/7/7598.png')...]"
            ]
          },
          "metadata": {
            "tags": []
          },
          "execution_count": 43
        }
      ]
    },
    {
      "cell_type": "markdown",
      "metadata": {
        "id": "3tHlOMWwletX"
      },
      "source": [
        "Let's create a validation set and a simple MAE fucntion:\n"
      ]
    },
    {
      "cell_type": "code",
      "metadata": {
        "id": "xfskJkDomhWG",
        "colab": {
          "base_uri": "https://localhost:8080/"
        },
        "outputId": "159ba5c1-c2f1-4552-938b-1644cb4053d4"
      },
      "source": [
        "# Stack tensors:\n",
        "valid_3_tensors = torch.stack([tensor(Image.open(f)) for f in (path/'valid/3').ls()])\n",
        "valid_7_tensors = torch.stack([tensor(Image.open(f)) for f in (path/'valid/7').ls()])\n",
        "\n",
        "# Normalize tensors:\n",
        "valid_3_tensors = valid_3_tensors.float()/255\n",
        "valid_7_tensors = valid_7_tensors.float()/255\n",
        "\n",
        "print(valid_3_tensors.shape)"
      ],
      "execution_count": null,
      "outputs": [
        {
          "output_type": "stream",
          "text": [
            "torch.Size([1010, 28, 28])\n"
          ],
          "name": "stdout"
        }
      ]
    },
    {
      "cell_type": "code",
      "metadata": {
        "id": "HPEX4YbiSZGE"
      },
      "source": [
        "def img_distance(input, mean_tensor): \n",
        "    return (input-mean_tensor).abs().mean((-1,-2))\n",
        "\n",
        "def is_3(x): \n",
        "    return (img_distance(x, mean3) < mnist_distance(x, mean7)).float()\n"
      ],
      "execution_count": null,
      "outputs": []
    },
    {
      "cell_type": "code",
      "metadata": {
        "id": "HNLMPC1JIf7W",
        "colab": {
          "base_uri": "https://localhost:8080/"
        },
        "outputId": "d37cf582-ae34-46b0-f2ef-54207aa278d6"
      },
      "source": [
        "is_3(valid_3_tensors).shape"
      ],
      "execution_count": null,
      "outputs": [
        {
          "output_type": "execute_result",
          "data": {
            "text/plain": [
              "torch.Size([1010])"
            ]
          },
          "metadata": {
            "tags": []
          },
          "execution_count": 47
        }
      ]
    },
    {
      "cell_type": "code",
      "metadata": {
        "colab": {
          "base_uri": "https://localhost:8080/"
        },
        "id": "J7Ze_v50nCjx",
        "outputId": "e8abbade-358b-4e17-8a6b-2a5ec2b6a146"
      },
      "source": [
        "accuracy_3s = is_3(valid_3_tensors).mean()\n",
        "accuracy_7s = (1 - is_3(valid_7_tensors)).mean()\n",
        "\n",
        "print(accuracy_3s)\n"
      ],
      "execution_count": null,
      "outputs": [
        {
          "output_type": "stream",
          "text": [
            "tensor(0.9337)\n"
          ],
          "name": "stdout"
        }
      ]
    }
  ]
}